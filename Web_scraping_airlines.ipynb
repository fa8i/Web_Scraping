{
 "cells": [
  {
   "cell_type": "markdown",
   "metadata": {},
   "source": [
    "# Scraping web - Airlines"
   ]
  },
  {
   "cell_type": "markdown",
   "metadata": {},
   "source": [
    "Ejemplo de web scraping en flightradar"
   ]
  },
  {
   "cell_type": "markdown",
   "metadata": {},
   "source": [
    "### IMPORTACION DE LIBRERÍAS"
   ]
  },
  {
   "cell_type": "code",
   "execution_count": 13,
   "metadata": {},
   "outputs": [],
   "source": [
    "from urllib.request import urlopen, Request\n",
    "from bs4 import BeautifulSoup\n",
    "from pathlib import Path\n",
    "from concurrent.futures import ThreadPoolExecutor\n",
    "import pandas as pd\n",
    "import requests\n",
    "import os"
   ]
  },
  {
   "cell_type": "markdown",
   "metadata": {},
   "source": [
    "### REQUEST"
   ]
  },
  {
   "cell_type": "code",
   "execution_count": 14,
   "metadata": {},
   "outputs": [],
   "source": [
    "url = 'https://www.flightradar24.com/data/airlines'\n",
    "headers = {'User-Agent': 'Mozilla/5.0'}"
   ]
  },
  {
   "cell_type": "code",
   "execution_count": 15,
   "metadata": {},
   "outputs": [],
   "source": [
    "req = Request(url, headers=headers)\n",
    "raw_web = urlopen(req).read()\n",
    "soup = BeautifulSoup(raw_web, \"html.parser\")\n",
    "table = soup.find_all(\"tbody\")"
   ]
  },
  {
   "cell_type": "markdown",
   "metadata": {},
   "source": [
    "### FUNCIONES"
   ]
  },
  {
   "cell_type": "code",
   "execution_count": 16,
   "metadata": {},
   "outputs": [],
   "source": [
    "def divide_cods(template):\n",
    "    if '/' in template[2]:\n",
    "        template[2:3] = template[2].split(' / ')     # Caso 1: IATA + ICAO\n",
    "    elif len(template[2]) == 2:\n",
    "        template[2:3] = [template[2], None]          # Caso 2: IATA + NULL\n",
    "    elif len(template[2]) == 3:\n",
    "        template[2:3] = [None, template[2]]          # Caso 3: NULL + ICAO\n",
    "    else:\n",
    "        template[2:4] = [None, None]                 # Caso 4: NULL + NULL\n",
    "    return template"
   ]
  },
  {
   "cell_type": "code",
   "execution_count": 17,
   "metadata": {},
   "outputs": [],
   "source": [
    "def image_links():\n",
    "    # Ajusta el índice para encontrar la imagen dentro de la primera columna (<td>)\n",
    "    img_tags = cols[0].find_all('img')\n",
    "    \n",
    "    # Verifica si hay al menos una etiqueta <img>\n",
    "    if img_tags:\n",
    "        image_url = img_tags[0]['data-bn-lazy-src'] if 'data-bn-lazy-src' in img_tags[0].attrs else img_tags[0]['src']\n",
    "        template.append(image_url)\n",
    "    else:\n",
    "        template.append(None)  # cadena vacia si no existe imagen\n",
    "    "
   ]
  },
  {
   "cell_type": "markdown",
   "metadata": {},
   "source": [
    "### DATA TABLE"
   ]
  },
  {
   "cell_type": "code",
   "execution_count": 18,
   "metadata": {},
   "outputs": [],
   "source": [
    "table_data = []\n",
    "\n",
    "for table_body in table:\n",
    "        rows = table_body.find_all('tr', class_=lambda x: x != 'header')[1:]  # exclusion headers\n",
    "for row in rows:\n",
    "        cols = row.find_all('td')[1:5]                                    \n",
    "        template = [col.text.strip() for col in cols]\n",
    "        template[3] = template[3].replace(' aircraft','')                 # limpieza del campo 'numero de aeronaves'\n",
    "        divide_cods(template)                                             # funcion divide string IATA/ICAO\n",
    "        image_links()                                                     # funcion logo links\n",
    "        template.pop(0)\n",
    "        table_data.append(template)\n"
   ]
  },
  {
   "cell_type": "markdown",
   "metadata": {},
   "source": [
    "### DATAFRAME"
   ]
  },
  {
   "cell_type": "code",
   "execution_count": 19,
   "metadata": {},
   "outputs": [
    {
     "data": {
      "text/html": [
       "<div>\n",
       "<style scoped>\n",
       "    .dataframe tbody tr th:only-of-type {\n",
       "        vertical-align: middle;\n",
       "    }\n",
       "\n",
       "    .dataframe tbody tr th {\n",
       "        vertical-align: top;\n",
       "    }\n",
       "\n",
       "    .dataframe thead th {\n",
       "        text-align: right;\n",
       "    }\n",
       "</style>\n",
       "<table border=\"1\" class=\"dataframe\">\n",
       "  <thead>\n",
       "    <tr style=\"text-align: right;\">\n",
       "      <th></th>\n",
       "      <th>aircraft_name</th>\n",
       "      <th>cod_IATA</th>\n",
       "      <th>cod_ICAO</th>\n",
       "      <th>aircraft_num</th>\n",
       "      <th>logo_link</th>\n",
       "    </tr>\n",
       "  </thead>\n",
       "  <tbody>\n",
       "    <tr>\n",
       "      <th>0</th>\n",
       "      <td>21 Air</td>\n",
       "      <td>2I</td>\n",
       "      <td>CSB</td>\n",
       "      <td>2</td>\n",
       "      <td>https://images.flightradar24.com/assets/airlin...</td>\n",
       "    </tr>\n",
       "    <tr>\n",
       "      <th>1</th>\n",
       "      <td>2Excel Aviation</td>\n",
       "      <td>None</td>\n",
       "      <td>BRO</td>\n",
       "      <td>25</td>\n",
       "      <td>https://images.flightradar24.com/assets/airlin...</td>\n",
       "    </tr>\n",
       "    <tr>\n",
       "      <th>2</th>\n",
       "      <td>748 Air Services</td>\n",
       "      <td>FE</td>\n",
       "      <td>IHO</td>\n",
       "      <td>5</td>\n",
       "      <td>https://images.flightradar24.com/assets/airlin...</td>\n",
       "    </tr>\n",
       "    <tr>\n",
       "      <th>3</th>\n",
       "      <td>9 Air</td>\n",
       "      <td>AQ</td>\n",
       "      <td>JYH</td>\n",
       "      <td>23</td>\n",
       "      <td>https://images.flightradar24.com/assets/airlin...</td>\n",
       "    </tr>\n",
       "    <tr>\n",
       "      <th>4</th>\n",
       "      <td>Abakan Air</td>\n",
       "      <td>S5</td>\n",
       "      <td>NKP</td>\n",
       "      <td>9</td>\n",
       "      <td>None</td>\n",
       "    </tr>\n",
       "    <tr>\n",
       "      <th>...</th>\n",
       "      <td>...</td>\n",
       "      <td>...</td>\n",
       "      <td>...</td>\n",
       "      <td>...</td>\n",
       "      <td>...</td>\n",
       "    </tr>\n",
       "    <tr>\n",
       "      <th>1655</th>\n",
       "      <td>Zil Air</td>\n",
       "      <td>None</td>\n",
       "      <td>SYZ</td>\n",
       "      <td>1</td>\n",
       "      <td>None</td>\n",
       "    </tr>\n",
       "    <tr>\n",
       "      <th>1656</th>\n",
       "      <td>Zimex Aviation</td>\n",
       "      <td>XM</td>\n",
       "      <td>IMX</td>\n",
       "      <td>20</td>\n",
       "      <td>https://images.flightradar24.com/assets/airlin...</td>\n",
       "    </tr>\n",
       "    <tr>\n",
       "      <th>1657</th>\n",
       "      <td>Zipair</td>\n",
       "      <td>ZG</td>\n",
       "      <td>TZP</td>\n",
       "      <td>8</td>\n",
       "      <td>https://images.flightradar24.com/assets/airlin...</td>\n",
       "    </tr>\n",
       "    <tr>\n",
       "      <th>1658</th>\n",
       "      <td>Zoom Air</td>\n",
       "      <td>ZO</td>\n",
       "      <td>ZOM</td>\n",
       "      <td>1</td>\n",
       "      <td>None</td>\n",
       "    </tr>\n",
       "    <tr>\n",
       "      <th>1659</th>\n",
       "      <td>ZYB Lily Jet</td>\n",
       "      <td>None</td>\n",
       "      <td>MZT</td>\n",
       "      <td>9</td>\n",
       "      <td>None</td>\n",
       "    </tr>\n",
       "  </tbody>\n",
       "</table>\n",
       "<p>1660 rows × 5 columns</p>\n",
       "</div>"
      ],
      "text/plain": [
       "         aircraft_name cod_IATA cod_ICAO aircraft_num  \\\n",
       "0               21 Air       2I      CSB            2   \n",
       "1      2Excel Aviation     None      BRO           25   \n",
       "2     748 Air Services       FE      IHO            5   \n",
       "3                9 Air       AQ      JYH           23   \n",
       "4           Abakan Air       S5      NKP            9   \n",
       "...                ...      ...      ...          ...   \n",
       "1655           Zil Air     None      SYZ            1   \n",
       "1656    Zimex Aviation       XM      IMX           20   \n",
       "1657            Zipair       ZG      TZP            8   \n",
       "1658          Zoom Air       ZO      ZOM            1   \n",
       "1659      ZYB Lily Jet     None      MZT            9   \n",
       "\n",
       "                                              logo_link  \n",
       "0     https://images.flightradar24.com/assets/airlin...  \n",
       "1     https://images.flightradar24.com/assets/airlin...  \n",
       "2     https://images.flightradar24.com/assets/airlin...  \n",
       "3     https://images.flightradar24.com/assets/airlin...  \n",
       "4                                                  None  \n",
       "...                                                 ...  \n",
       "1655                                               None  \n",
       "1656  https://images.flightradar24.com/assets/airlin...  \n",
       "1657  https://images.flightradar24.com/assets/airlin...  \n",
       "1658                                               None  \n",
       "1659                                               None  \n",
       "\n",
       "[1660 rows x 5 columns]"
      ]
     },
     "execution_count": 19,
     "metadata": {},
     "output_type": "execute_result"
    }
   ],
   "source": [
    "table_headers = ['aircraft_name','cod_IATA', 'cod_ICAO', 'aircraft_num', 'logo_link']\n",
    "df = pd.DataFrame(table_data, columns=table_headers)\n",
    "df"
   ]
  },
  {
   "cell_type": "markdown",
   "metadata": {},
   "source": [
    "### DESCARGA DE IMÁGENES"
   ]
  },
  {
   "cell_type": "code",
   "execution_count": 20,
   "metadata": {},
   "outputs": [],
   "source": [
    "respuesta = input(\"Deseas descargar todas las imagenes? [Y / N]\")\n",
    "if respuesta.upper() == 'Y':\n",
    "    directorio_destino = f\"{Path.home()}/Desktop/ImagenesLogosAirlines\"\n",
    "    \n",
    "    if not os.path.exists(directorio_destino):      # Verificar si el directorio existe y si no, se crea\n",
    "        os.makedirs(directorio_destino)\n",
    "        \n",
    "    for index, row in df.iterrows():\n",
    "        if row['logo_link']:\n",
    "            url = row['logo_link']\n",
    "            nombre_archivo = f\"{row['aircraft_name']}.png\"  # Usa el nombre correspondiente de la columna 'aircraft_name'\n",
    "            ruta_completa = os.path.join(directorio_destino, nombre_archivo)\n",
    "            response = requests.get(url)\n",
    "            if response.status_code == 200:\n",
    "                with open(ruta_completa, 'wb') as f:\n",
    "                    f.write(response.content)\n",
    "                print(f\"Imagen descargada y guardada como {ruta_completa}\")\n",
    "            else:\n",
    "                print(f\"No se pudo descargar la imagen desde {url}\")\n",
    "else:\n",
    "    pass       \n",
    "\n"
   ]
  }
 ],
 "metadata": {
  "kernelspec": {
   "display_name": "Python 3 (ipykernel)",
   "language": "python",
   "name": "python3"
  },
  "language_info": {
   "codemirror_mode": {
    "name": "ipython",
    "version": 3
   },
   "file_extension": ".py",
   "mimetype": "text/x-python",
   "name": "python",
   "nbconvert_exporter": "python",
   "pygments_lexer": "ipython3",
   "version": "3.11.7"
  },
  "toc": {
   "base_numbering": 1,
   "nav_menu": {},
   "number_sections": true,
   "sideBar": true,
   "skip_h1_title": false,
   "title_cell": "Table of Contents",
   "title_sidebar": "Contents",
   "toc_cell": false,
   "toc_position": {},
   "toc_section_display": true,
   "toc_window_display": false
  }
 },
 "nbformat": 4,
 "nbformat_minor": 2
}
